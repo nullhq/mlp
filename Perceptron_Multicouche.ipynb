{
 "cells": [
  {
   "cell_type": "markdown",
   "metadata": {},
   "source": [
    "#### Implementation from scratch d'un perceptron multicouche only numpy + maths ;)"
   ]
  },
  {
   "cell_type": "code",
   "execution_count": 2,
   "metadata": {},
   "outputs": [],
   "source": [
    "import numpy as np\n",
    "import matplotlib.pyplot as plt\n",
    "from sklearn.datasets import load_iris\n",
    "from sklearn.model_selection import train_test_split\n",
    "from sklearn.preprocessing import OneHotEncoder\n",
    "import pickle\n",
    "np.set_printoptions(suppress=True)\n"
   ]
  },
  {
   "cell_type": "markdown",
   "metadata": {},
   "source": [
    "##### 1. Definiton du réseau et initialisation des poids"
   ]
  },
  {
   "cell_type": "code",
   "execution_count": 3,
   "metadata": {},
   "outputs": [],
   "source": [
    "# Initialisation des poids et des biais...\n",
    "def initialisation_des_poids(entre_taille, cache_taille, sortie_taille):\n",
    "    W = np.random.normal(0, 0.1, (cache_taille, entre_taille))\n",
    "    b = np.zeros((cache_taille, 1))\n",
    "    Ws = np.random.normal(0, 0.1, (sortie_taille, cache_taille))\n",
    "    bs = np.zeros((sortie_taille, 1))\n",
    "\n",
    "    return W, b, Ws, bs"
   ]
  },
  {
   "cell_type": "code",
   "execution_count": 4,
   "metadata": {},
   "outputs": [],
   "source": [
    "# Fonction d'activation ReLU pour les couches cachées\n",
    "def ReLU(Z):\n",
    "    return np.maximum(Z, 0)"
   ]
  },
  {
   "cell_type": "code",
   "execution_count": 5,
   "metadata": {},
   "outputs": [],
   "source": [
    "# Dérivée de la fonction d'activation ReLU (pour le backpropagation)\n",
    "# Encore appelée fonction seuil ou hearviside.\n",
    "def dReLU(Z):\n",
    "    return np.where(Z > 0, 1.0, 0.0)"
   ]
  },
  {
   "cell_type": "code",
   "execution_count": 6,
   "metadata": {},
   "outputs": [],
   "source": [
    "# Utilisation de softmax sur la couche de sortie pour obtenir les probabilités\n",
    "def softmax(Ypred):\n",
    "    exp_Ypred = np.exp(Ypred - np.max(Ypred))\n",
    "    return exp_Ypred / np.sum(exp_Ypred, axis=0)"
   ]
  },
  {
   "cell_type": "code",
   "execution_count": 7,
   "metadata": {},
   "outputs": [],
   "source": [
    "# Pour dessiner notre courbe d'apprentissage\n",
    "def dessiner_courbe_dapprentissage(erreurs):\n",
    "    plt.figure(figsize=(10, 5))\n",
    "    plt.plot(range(len(erreurs)), erreurs)\n",
    "    plt.ylim(0, 1)\n",
    "    plt.xlim(0, len(erreurs)-1)\n",
    "    plt.xlabel(\"Itérations\")\n",
    "    plt.ylabel(\"Erreurs\")\n",
    "    plt.show()"
   ]
  },
  {
   "cell_type": "markdown",
   "metadata": {},
   "source": [
    "##### 2. Propagation avant (FORWARD PROPAGATION)"
   ]
  },
  {
   "cell_type": "code",
   "execution_count": 8,
   "metadata": {},
   "outputs": [],
   "source": [
    "# Propagation avant qui prend en entrée les données, les poids et les biais\n",
    "def propagation_avant(X, W, b, Ws, bs):\n",
    "    Z = np.dot(W, X) + b\n",
    "    H = ReLU(Z)\n",
    "    Zs = np.dot(Ws, H) + bs\n",
    "    Ypred = softmax(Zs)\n",
    "    \n",
    "    return Z, H, Ypred"
   ]
  },
  {
   "cell_type": "code",
   "execution_count": 9,
   "metadata": {},
   "outputs": [],
   "source": [
    "# Fonction de prédiction dans laquelle on utilise les poids et les biais appris \n",
    "def predict(X, Wc, bc, Ws, bs):\n",
    "    _, _, Ypred = propagation_avant(X.T, Wc, bc, Ws, bs)\n",
    "    return Ypred"
   ]
  },
  {
   "cell_type": "markdown",
   "metadata": {},
   "source": [
    "##### 3. Calcul de la perte avec l'entropie croisée"
   ]
  },
  {
   "cell_type": "code",
   "execution_count": 10,
   "metadata": {},
   "outputs": [],
   "source": [
    "# Calcul de la perte L avec la fonction de coût entropie croisée dans la classification multiclasse\n",
    "# L = -1/N * somme(Ytrue * log(Ypred))\n",
    "def L(Ypred, Ytrue):\n",
    "    return -np.mean(np.sum(Ytrue * np.log(Ypred), axis=0))"
   ]
  },
  {
   "cell_type": "markdown",
   "metadata": {},
   "source": [
    "##### 4. Rétropropagation (Propagation arriere)"
   ]
  },
  {
   "cell_type": "code",
   "execution_count": 11,
   "metadata": {},
   "outputs": [],
   "source": [
    "# Propagation arriere qui prend en entrée les predictions, les valeurs vraies, la sortie de la couche cachée etc...\n",
    "def propagation_arriere(Ypred, Ytrue, X, Z, H, Ws):\n",
    "    # Calcul du gradient pour la souche de sortie Zs :\n",
    "\n",
    "    dZs = Ypred - Ytrue\n",
    "    dWs = np.dot(dZs, H.T) / X.shape[1]\n",
    "    dbs = np.sum(dZs, axis=1, keepdims=True) / X.shape[1]\n",
    "\n",
    "    # Calcul du gradient pour la couche cachée Z :\n",
    "    dH = np.dot(Ws.T, dZs)\n",
    "    dZ = dH * dReLU(Z) \n",
    "    dW = np.dot(dZ, X.T)\n",
    "    db = np.sum(dZ, axis=1, keepdims=True) / X.shape[1]\n",
    "\n",
    "    return dW, db, dWs, dbs\n"
   ]
  },
  {
   "cell_type": "markdown",
   "metadata": {},
   "source": [
    "##### 5. Mise a jour des poids (Descente de gradient)"
   ]
  },
  {
   "cell_type": "code",
   "execution_count": 12,
   "metadata": {},
   "outputs": [],
   "source": [
    "# Mise a jour des poids et biais qui prend en entrée les ancients poids, les gradients calculés plus haut et le learning rate lr\n",
    "# et on met a jour les poids avec la regle de descente de gradient : W = W - lr*dW\n",
    "def mise_a_jour(W, b, Ws, bs, dW, db, dWs, dbs, lr):\n",
    "    W = W - lr*dW\n",
    "    b = b - lr*db\n",
    "\n",
    "    Ws = Ws - lr*dWs\n",
    "    bs = bs - lr*dbs\n",
    "\n",
    "    return W, b, Ws, bs"
   ]
  },
  {
   "cell_type": "code",
   "execution_count": 24,
   "metadata": {},
   "outputs": [],
   "source": [
    "# Fonction d'entrainement qui prend en entrée les données, les valeurs vraies, le nombre de neurones de la couche cachée, le learning rate et le nombre d'itérations\n",
    "def apprentissage(X, Y, iterations, lr, cache_taille):\n",
    "    entre_taille = X.shape[0]\n",
    "    sortie_taille = Y.shape[0]\n",
    "\n",
    "    W, b, Ws, bs = initialisation_des_poids(entre_taille, cache_taille, sortie_taille)\n",
    "    erreurs = []\n",
    "\n",
    "    for i in range(iterations):\n",
    "        Z, H, Ypred = propagation_avant(X, W, b, Ws, bs)\n",
    "        erreur = L(Ypred, Y)\n",
    "        erreurs.append(erreur)\n",
    "\n",
    "        dW, db, dWs, dbs = propagation_arriere(Ypred, Y, X, Z, H, Ws)\n",
    "        W, b, Ws, bs = mise_a_jour(W, b, Ws, bs, dW, db, dWs, dbs, lr)\n",
    "\n",
    "    dessiner_courbe_dapprentissage(erreurs)\n",
    "    return W, b, Ws, bs    "
   ]
  },
  {
   "cell_type": "code",
   "execution_count": 34,
   "metadata": {},
   "outputs": [
    {
     "data": {
      "image/png": "[encoded data removed]",
      "text/plain": [
       "<Figure size 1000x500 with 1 Axes>"
      ]
     },
     "metadata": {},
     "output_type": "display_data"
    }
   ],
   "source": [
    "# Chargement du jeu de données Iris\n",
    "iris = load_iris()\n",
    "X = iris.data  # (150, 4) - 150 échantillons, 4 caractéristiques\n",
    "Y = iris.target.reshape(1, -1)  # (1, 150)\n",
    "\n",
    "# Encodage One-Hot des étiquettes\n",
    "encoder = OneHotEncoder(sparse_output=False)\n",
    "Y = encoder.fit_transform(Y.T)\n",
    "\n",
    "# Séparation des données en ensembles d'entraînement et de test\n",
    "X_train, X_test, Y_train, Y_test = train_test_split(X, Y, train_size=0.8)\n",
    "\n",
    "# Entraînement du modèle\n",
    "W, b, Ws, bs = apprentissage(X_train.T, Y_train.T, 1000, 0.01, 10)"
   ]
  },
  {
   "cell_type": "code",
   "execution_count": 35,
   "metadata": {},
   "outputs": [
    {
     "name": "stdout",
     "output_type": "stream",
     "text": [
      "Erreur sur l'ensemble de test : 0.0724\n",
      "Accuracy : 100.00%\n"
     ]
    }
   ],
   "source": [
    " # Test du modèle \n",
    "Ypred = predict(X_test, W, b, Ws, bs)\n",
    "erreur = L(Ypred, Y_test.T)\n",
    "\n",
    "# Erreur\n",
    "print(f\"Erreur sur l'ensemble de test : {erreur:.4f}\")\n",
    "\n",
    "# Accuracy\n",
    "accuracy = np.mean(np.argmax(Ypred, axis=0) == np.argmax(Y_test.T, axis=0))\n",
    "print(f\"Accuracy : {accuracy * 100:.2f}%\")"
   ]
  },
  {
   "cell_type": "code",
   "execution_count": 36,
   "metadata": {},
   "outputs": [],
   "source": [
    "# Sauvegarder mon modele avec pickle\n",
    "with open(\"iris_model.pkl\", \"wb\") as f:\n",
    "    pickle.dump((W, b, Ws, bs), f)"
   ]
  },
  {
   "cell_type": "code",
   "execution_count": 37,
   "metadata": {},
   "outputs": [],
   "source": [
    "# Afin d'obtenir le nom de l'espece a partir de la prediction du modele.\n",
    "def obtenir_espece_iris(Ypred):\n",
    "    classes = [\"Setosa\", \"Versicolor\", \"Virginica\"]\n",
    "    return classes[np.argmax(Ypred)]"
   ]
  },
  {
   "cell_type": "code",
   "execution_count": 38,
   "metadata": {},
   "outputs": [],
   "source": [
    "# Fonction pour répondre avec les détails de l'iris, type prédit inclus.\n",
    "def repondre_iris(features):\n",
    "    longeur_sepale, largeur_sepale, longeur_petale, largeur_petale = features\n",
    "    x = np.asmatrix([features])\n",
    "    \n",
    "    with open(\"iris_model.pkl\", \"rb\") as f:\n",
    "        W, b, Ws, bs = pickle.load(f)\n",
    "    \n",
    "    # Prédire\n",
    "    Ypred = predict(x, W, b, Ws, bs)\n",
    "    espece = obtenir_espece_iris(Ypred)\n",
    "    \n",
    "    return {\n",
    "        \"spH\": longeur_sepale,\n",
    "        \"spW\": largeur_sepale,\n",
    "        \"ptH\": longeur_petale,\n",
    "        \"ptW\": largeur_petale,\n",
    "        \"specie\": espece\n",
    "    }"
   ]
  },
  {
   "cell_type": "code",
   "execution_count": 39,
   "metadata": {},
   "outputs": [
    {
     "name": "stdout",
     "output_type": "stream",
     "text": [
      "{'spH': 4.9, 'spW': 3.1, 'ptH': 1.5, 'ptW': 0.2, 'specie': 'Setosa'}\n",
      "{'spH': 5.7, 'spW': 2.8, 'ptH': 4.1, 'ptW': 1.3, 'specie': 'Versicolor'}\n",
      "{'spH': 6.2, 'spW': 3.4, 'ptH': 5.4, 'ptW': 2.3, 'specie': 'Virginica'}\n"
     ]
    }
   ],
   "source": [
    "print(repondre_iris([4.9, 3.1, 1.5, 0.2])) # Setosa\n",
    "print(repondre_iris([5.7, 2.8, 4.1, 1.3])) # Versicolor\n",
    "print(repondre_iris([6.2, 3.4, 5.4, 2.3])) # Virginica"
   ]
  }
 ],
 "metadata": {
  "kernelspec": {
   "display_name": "Python 3",
   "language": "python",
   "name": "python3"
  },
  "language_info": {
   "codemirror_mode": {
    "name": "ipython",
    "version": 3
   },
   "file_extension": ".py",
   "mimetype": "text/x-python",
   "name": "python",
   "nbconvert_exporter": "python",
   "pygments_lexer": "ipython3",
   "version": "3.13.0"
  }
 },
 "nbformat": 4,
 "nbformat_minor": 2
}
