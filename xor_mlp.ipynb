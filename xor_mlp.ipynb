{
 "cells": [
  {
   "cell_type": "markdown",
   "metadata": {},
   "source": [
    "#### Implementation d'un perceptron multicouche de ZERO !"
   ]
  },
  {
   "cell_type": "code",
   "execution_count": 1,
   "metadata": {},
   "outputs": [],
   "source": [
    "import numpy as np\n",
    "import matplotlib.pyplot as plt"
   ]
  },
  {
   "cell_type": "markdown",
   "metadata": {},
   "source": [
    "#### 1. Definition du réseau et initialisation des poids"
   ]
  },
  {
   "cell_type": "code",
   "execution_count": 36,
   "metadata": {},
   "outputs": [],
   "source": [
    "# Initialisation des poids et des biais...\n",
    "def initialisation_des_poids():\n",
    "    Wc = np.random.normal(0, 0.1, (4, 2))\n",
    "    bc = np.zeros((4, 1))\n",
    "    Ws = np.random.normal(0, 0.1, (4, 1))\n",
    "    bs = np.zeros((1, 1))\n",
    "\n",
    "    return Wc, bc, Ws, bs"
   ]
  },
  {
   "cell_type": "code",
   "execution_count": 22,
   "metadata": {},
   "outputs": [],
   "source": [
    "# Fonction pour charger les données XOR\n",
    "def load_xor():\n",
    "    train = np.array([[0, 0, 0], [0, 1, 1], [1, 0, 1], [1, 1, 0]])\n",
    "    test = np.array([[0, 0, 0], [0, 1, 1], [1, 0, 1], [1, 1, 0]])\n",
    "    return np.array(train, dtype='float64'), np.array(test, dtype='float64')"
   ]
  },
  {
   "cell_type": "code",
   "execution_count": 10,
   "metadata": {},
   "outputs": [],
   "source": [
    "# Fonction d'activation ReLU pour la couche cachée\n",
    "def ReLU(Z):\n",
    "    return np.maximum(0, Z)"
   ]
  },
  {
   "cell_type": "code",
   "execution_count": 11,
   "metadata": {},
   "outputs": [],
   "source": [
    "# La dérivée de la fonction ReLU pour la retropropagation\n",
    "def dReLU(Z):\n",
    "    return np.where(Z > 0, 1.0, 0.0)"
   ]
  },
  {
   "cell_type": "code",
   "execution_count": 12,
   "metadata": {},
   "outputs": [],
   "source": [
    "# Fonction sigmoïde pour la couche de sortie (prédiction) vus que c'est une classification binaire\n",
    "def sigmoide(Z):\n",
    "    return 1 / (1 + np.exp(-Z))"
   ]
  },
  {
   "cell_type": "code",
   "execution_count": 13,
   "metadata": {},
   "outputs": [],
   "source": [
    "# Pour dessiner notre courbe d'apprentissage\n",
    "def dessiner_courbe_dapprentissage(erreurs):\n",
    "    plt.figure(figsize=(10, 5))\n",
    "    plt.plot(range(len(erreurs)), erreurs)\n",
    "    plt.ylim(0, 1)\n",
    "    plt.xlim(0, len(erreurs)-1)\n",
    "    plt.xlabel(\"Itérations\")\n",
    "    plt.ylabel(\"Erreurs\")\n",
    "    plt.show()\n"
   ]
  },
  {
   "cell_type": "markdown",
   "metadata": {},
   "source": [
    "##### 2. Propagation avant (forward propagtion)"
   ]
  },
  {
   "cell_type": "code",
   "execution_count": 29,
   "metadata": {},
   "outputs": [],
   "source": [
    "# En fait la propagation avant nous permet de calculer la prediction de note modele\n",
    "def propagation_avant(X, Wc, bc, Ws, bs):\n",
    "    Zc = np.dot(Wc, X) + bc\n",
    "    H = ReLU(Zc)\n",
    "    Zs = np.dot(Ws.T, H) + bs\n",
    "    Ypred = sigmoide(Zs)\n",
    "\n",
    "    return Zc, H, Ypred"
   ]
  },
  {
   "cell_type": "markdown",
   "metadata": {},
   "source": [
    "##### 3. Calcul de la perte L"
   ]
  },
  {
   "cell_type": "code",
   "execution_count": 17,
   "metadata": {},
   "outputs": [],
   "source": [
    "# La fonction de perte L binaire croisée pour la classification binaire particulierement\n",
    "def L(Ypred, Ytrue):\n",
    "    return -np.mean(Ytrue * np.log(Ypred + 1e-9) + (1 - Ytrue) * np.log(1 - Ypred + 1e-9))"
   ]
  },
  {
   "cell_type": "markdown",
   "metadata": {},
   "source": [
    "##### 4. Propagation arriere (Backwardpropagation)"
   ]
  },
  {
   "cell_type": "code",
   "execution_count": 25,
   "metadata": {},
   "outputs": [],
   "source": [
    "# La retropropagation pour calculer les gradients afin de mettre à jour les poids et les biais\n",
    "def propagation_arriere(Ypred, Ytrue, Zc, X, H, Ws):\n",
    "    dZs = Ypred - Ytrue\n",
    "    dWs = np.dot(H, dZs.T) / X.shape[1]\n",
    "    dbs = np.sum(dZs, axis=1, keepdims=True) / X.shape[1]\n",
    "\n",
    "    \n",
    "    dH = np.dot(Ws, dZs)\n",
    "    dZc = dH * dReLU(Zc)\n",
    "    dWc = np.dot(dZc, X.T) / X.shape[1]\n",
    "    dbc = np.sum(dZc, axis=1, keepdims=True) / X.shape[1]\n",
    "\n",
    "    return dWc, dbc, dWs, dbs"
   ]
  },
  {
   "cell_type": "markdown",
   "metadata": {},
   "source": [
    "##### 5. Mise à jour des poids et des biais"
   ]
  },
  {
   "cell_type": "code",
   "execution_count": 26,
   "metadata": {},
   "outputs": [],
   "source": [
    "def mise_a_jour(Wc, bc, Ws, bs, dWc, dbc, dWs, dbs, lr):\n",
    "    Wc = Wc - lr*dWc\n",
    "    bc = bc - lr*dbc\n",
    "\n",
    "    Ws = Ws - lr*dWs\n",
    "    bs = bs - lr*dbs\n",
    "\n",
    "    return Wc, bc, Ws, bs"
   ]
  },
  {
   "cell_type": "code",
   "execution_count": null,
   "metadata": {},
   "outputs": [],
   "source": [
    "# Pour calculer accuracy de notre modele.\n",
    "def calculer_exactitude(Ypred, Ytrue):\n",
    "    # Appliquer un seuil de 0.5 pour obtenir des prédictions binaires\n",
    "    Ypred_binaire = (Ypred >= 0.5).astype(int)  # Convertir les prédictions en 0 ou 1\n",
    "\n",
    "    # Comparer les prédictions avec les valeurs réelles\n",
    "    # Ypred_binaire et Ytrue doivent avoir la même forme pour effectuer la comparaison\n",
    "    exactitude = np.mean(Ypred_binaire == Ytrue) \n",
    "    return exactitude"
   ]
  },
  {
   "cell_type": "code",
   "execution_count": 82,
   "metadata": {},
   "outputs": [],
   "source": [
    "# Apprentissage du modele \n",
    "def apprentissage(X, Y, iterations, lr):\n",
    "    Wc, bc, Ws, bs = initialisation_des_poids()\n",
    "    erreurs = []\n",
    "    outYpred = 0.0\n",
    "\n",
    "    for i in range(iterations):\n",
    "        Zc, H, Ypred = propagation_avant(X, Wc, bc, Ws, bs)\n",
    "        outYpred = Ypred\n",
    "\n",
    "        erreur = L(Ypred, Y)\n",
    "        erreurs.append(erreur)\n",
    "\n",
    "        dWc, dbc, dWs, dbs = propagation_arriere(Ypred, Y, Zc, X, H, Ws)\n",
    "        Wc, bc, Ws, bs = mise_a_jour(Wc, bc, Ws, bs, dWc, dbc, dWs, dbs, lr)\n",
    "\n",
    "    dessiner_courbe_dapprentissage(erreurs)\n",
    "    print(f\"Exactitude : {calculer_exactitude(Ypred, Y) * 100}%\")\n",
    "    return Wc, bc, Ws, bs"
   ]
  },
  {
   "cell_type": "code",
   "execution_count": 84,
   "metadata": {},
   "outputs": [
    {
     "data": {
      "image/png": "[encoded data removed]",
      "text/plain": [
       "<Figure size 1000x500 with 1 Axes>"
      ]
     },
     "metadata": {},
     "output_type": "display_data"
    },
    {
     "name": "stdout",
     "output_type": "stream",
     "text": [
      "Exactitude : 100.0%\n"
     ]
    }
   ],
   "source": [
    "train, test = load_xor()\n",
    "X = train[:, :2].T\n",
    "Y = train[:, 2:].T\n",
    "\n",
    "Wc, bc, Ws, bs = apprentissage(X, Y, 2000, 0.1)"
   ]
  },
  {
   "cell_type": "code",
   "execution_count": 86,
   "metadata": {},
   "outputs": [],
   "source": [
    "# Sauvegarder notre modele pour une utilisation future\n",
    "import pickle\n",
    "\n",
    "with open(\"xor_modele.pkl\", \"wb\") as f:\n",
    "    pickle.dump((Wc, bc, Ws, bs), f)"
   ]
  },
  {
   "cell_type": "code",
   "execution_count": 90,
   "metadata": {},
   "outputs": [
    {
     "name": "stdout",
     "output_type": "stream",
     "text": [
      "Prédictions : [[0.04306065 0.99255661 0.99520965 0.00411638]]\n",
      "Exactitude sur les données de test : 100.0%\n"
     ]
    }
   ],
   "source": [
    "# Charger notre modele pour tester avec les données de test\n",
    "with open(\"xor_modele.pkl\", \"rb\") as f:\n",
    "    Wc, bc, Ws, bs = pickle.load(f)\n",
    "\n",
    "X_test = test[:, :2].T\n",
    "Y_test = test[:, 2:].T\n",
    "\n",
    "Zc, H, Ypred = propagation_avant(X_test, Wc, bc, Ws, bs)\n",
    "print(f\"Prédictions : {Ypred}\")\n",
    "print(f\"Exactitude sur les données de test : {calculer_exactitude(Ypred, Y_test) * 100}%\")"
   ]
  },
  {
   "cell_type": "code",
   "execution_count": 1,
   "metadata": {},
   "outputs": [],
   "source": [
    "import pandas as pd"
   ]
  },
  {
   "cell_type": "code",
   "execution_count": 2,
   "metadata": {},
   "outputs": [],
   "source": [
    "iris_data = pd.read_csv(\"iris.csv\")"
   ]
  },
  {
   "cell_type": "code",
   "execution_count": 6,
   "metadata": {},
   "outputs": [
    {
     "data": {
      "text/html": [
       "<div>\n",
       "<style scoped>\n",
       "    .dataframe tbody tr th:only-of-type {\n",
       "        vertical-align: middle;\n",
       "    }\n",
       "\n",
       "    .dataframe tbody tr th {\n",
       "        vertical-align: top;\n",
       "    }\n",
       "\n",
       "    .dataframe thead th {\n",
       "        text-align: right;\n",
       "    }\n",
       "</style>\n",
       "<table border=\"1\" class=\"dataframe\">\n",
       "  <thead>\n",
       "    <tr style=\"text-align: right;\">\n",
       "      <th></th>\n",
       "      <th>Id</th>\n",
       "      <th>SepalLengthCm</th>\n",
       "      <th>SepalWidthCm</th>\n",
       "      <th>PetalLengthCm</th>\n",
       "      <th>PetalWidthCm</th>\n",
       "      <th>Species</th>\n",
       "    </tr>\n",
       "  </thead>\n",
       "  <tbody>\n",
       "    <tr>\n",
       "      <th>145</th>\n",
       "      <td>146</td>\n",
       "      <td>6.7</td>\n",
       "      <td>3.0</td>\n",
       "      <td>5.2</td>\n",
       "      <td>2.3</td>\n",
       "      <td>Iris-virginica</td>\n",
       "    </tr>\n",
       "    <tr>\n",
       "      <th>146</th>\n",
       "      <td>147</td>\n",
       "      <td>6.3</td>\n",
       "      <td>2.5</td>\n",
       "      <td>5.0</td>\n",
       "      <td>1.9</td>\n",
       "      <td>Iris-virginica</td>\n",
       "    </tr>\n",
       "    <tr>\n",
       "      <th>147</th>\n",
       "      <td>148</td>\n",
       "      <td>6.5</td>\n",
       "      <td>3.0</td>\n",
       "      <td>5.2</td>\n",
       "      <td>2.0</td>\n",
       "      <td>Iris-virginica</td>\n",
       "    </tr>\n",
       "    <tr>\n",
       "      <th>148</th>\n",
       "      <td>149</td>\n",
       "      <td>6.2</td>\n",
       "      <td>3.4</td>\n",
       "      <td>5.4</td>\n",
       "      <td>2.3</td>\n",
       "      <td>Iris-virginica</td>\n",
       "    </tr>\n",
       "    <tr>\n",
       "      <th>149</th>\n",
       "      <td>150</td>\n",
       "      <td>5.9</td>\n",
       "      <td>3.0</td>\n",
       "      <td>5.1</td>\n",
       "      <td>1.8</td>\n",
       "      <td>Iris-virginica</td>\n",
       "    </tr>\n",
       "  </tbody>\n",
       "</table>\n",
       "</div>"
      ],
      "text/plain": [
       "      Id  SepalLengthCm  SepalWidthCm  PetalLengthCm  PetalWidthCm  \\\n",
       "145  146            6.7           3.0            5.2           2.3   \n",
       "146  147            6.3           2.5            5.0           1.9   \n",
       "147  148            6.5           3.0            5.2           2.0   \n",
       "148  149            6.2           3.4            5.4           2.3   \n",
       "149  150            5.9           3.0            5.1           1.8   \n",
       "\n",
       "            Species  \n",
       "145  Iris-virginica  \n",
       "146  Iris-virginica  \n",
       "147  Iris-virginica  \n",
       "148  Iris-virginica  \n",
       "149  Iris-virginica  "
      ]
     },
     "execution_count": 6,
     "metadata": {},
     "output_type": "execute_result"
    }
   ],
   "source": [
    "iris_data.tail()\n"
   ]
  },
  {
   "cell_type": "code",
   "execution_count": 5,
   "metadata": {},
   "outputs": [
    {
     "name": "stdout",
     "output_type": "stream",
     "text": [
      "SepalLengthCM Height max :  7.9\n",
      "SepalLengthCM Height min :  4.3\n",
      "SepalLenghtCM Width max :  4.4\n",
      "SepalLenghtCM Width min :  2.0\n",
      "PetalLengthCM Height max :  6.9\n",
      "PetalLengthCM Height min :  1.0\n",
      "PetalLenghtCM Width max :  2.5\n",
      "PetalLenghtCM Width min :  0.1\n"
     ]
    }
   ],
   "source": [
    "sepallenghtheightmax = iris_data[\"SepalLengthCm\"].max()\n",
    "sepallenghtheightmin = iris_data[\"SepalLengthCm\"].min()\n",
    "sepallenghtwidthmax = iris_data[\"SepalWidthCm\"].max()\n",
    "sepallenghtwidthmin = iris_data[\"SepalWidthCm\"].min()\n",
    "\n",
    "petallenghtheightmax = iris_data[\"PetalLengthCm\"].max()\n",
    "petallenghtheightmin = iris_data[\"PetalLengthCm\"].min()\n",
    "petallenghtwidthmax = iris_data[\"PetalWidthCm\"].max()\n",
    "petallenghtwidthmin = iris_data[\"PetalWidthCm\"].min()\n",
    "\n",
    "\n",
    "print(\"SepalLengthCM Height max : \", sepallenghtheightmax)\n",
    "print(\"SepalLengthCM Height min : \", sepallenghtheightmin)\n",
    "print(\"SepalLenghtCM Width max : \", sepallenghtwidthmax)\n",
    "print(\"SepalLenghtCM Width min : \", sepallenghtwidthmin)\n",
    "\n",
    "print(\"PetalLengthCM Height max : \", petallenghtheightmax)\n",
    "print(\"PetalLengthCM Height min : \", petallenghtheightmin)\n",
    "print(\"PetalLenghtCM Width max : \", petallenghtwidthmax)\n",
    "print(\"PetalLenghtCM Width min : \", petallenghtwidthmin)"
   ]
  },
  {
   "cell_type": "code",
   "execution_count": null,
   "metadata": {},
   "outputs": [],
   "source": []
  }
 ],
 "metadata": {
  "kernelspec": {
   "display_name": "Python 3",
   "language": "python",
   "name": "python3"
  },
  "language_info": {
   "codemirror_mode": {
    "name": "ipython",
    "version": 3
   },
   "file_extension": ".py",
   "mimetype": "text/x-python",
   "name": "python",
   "nbconvert_exporter": "python",
   "pygments_lexer": "ipython3",
   "version": "3.13.0"
  }
 },
 "nbformat": 4,
 "nbformat_minor": 2
}
